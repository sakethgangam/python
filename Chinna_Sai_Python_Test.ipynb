{
 "cells": [
  {
   "cell_type": "code",
   "execution_count": 36,
   "metadata": {},
   "outputs": [
    {
     "name": "stdout",
     "output_type": "stream",
     "text": [
      "Enter first number: 1\n",
      "Enter second number: 2\n",
      "Enter third number: 3\n",
      "The largest number is: 3\n"
     ]
    }
   ],
   "source": [
    "# 1. Python program to find the largest number among the three input numbers\n",
    "\n",
    "# take three numbers from user\n",
    "num1 = float(input(\"Enter first number: \"))\n",
    "num2 = float(input(\"Enter second number: \"))\n",
    "num3 = float(input(\"Enter third number: \"))\n",
    "  \n",
    "print(f\"The largest number is: {int(max([num1, num2, num3]))}\")"
   ]
  },
  {
   "cell_type": "code",
   "execution_count": 37,
   "metadata": {},
   "outputs": [
    {
     "name": "stdout",
     "output_type": "stream",
     "text": [
      "Input a letter of the alphabet: e\n",
      "e is a vowel.\n"
     ]
    }
   ],
   "source": [
    "# 2 \n",
    "l = input(\"Input a letter of the alphabet: \")\n",
    "\n",
    "if l in ('a', 'e', 'i', 'o', 'u'):\n",
    "    print(\"%s is a vowel.\" % l)\n",
    "elif l == 'y':\n",
    "    print(\"Sometimes letter y stand for vowel, sometimes stand for consonant.\")\n",
    "else:\n",
    "    print(\"%s is a consonant.\" % l)"
   ]
  },
  {
   "cell_type": "code",
   "execution_count": null,
   "metadata": {},
   "outputs": [],
   "source": [
    "# 3 list of numbers of given numbers\n",
    "list1 = [-2, 0, 3, 19, 10, 42,7,4]\n",
    "# printing the maximum element\n",
    "print(\"Largest element is:\", max(list1)"
   ]
  },
  {
   "cell_type": "code",
   "execution_count": 30,
   "metadata": {},
   "outputs": [
    {
     "name": "stdout",
     "output_type": "stream",
     "text": [
      "False\n",
      "True\n"
     ]
    }
   ],
   "source": [
    "# 4.Write a Python function that takes two lists and returns true if they have at least one common member. [5 Marks]\n",
    "def func1(l1, l2):\n",
    "    return bool([i for i in l1 if i in l2])\n",
    "\n",
    "print(func1([1,2,3], [4,5,6]))\n",
    "\n",
    "print(func1([1,2,3], [4,5,3]))"
   ]
  },
  {
   "cell_type": "code",
   "execution_count": 33,
   "metadata": {},
   "outputs": [
    {
     "name": "stdout",
     "output_type": "stream",
     "text": [
      "[1, 2, 3, 4, 5, 6, 9, 99]\n"
     ]
    }
   ],
   "source": [
    "# 5.Write a Python Program to Merge Two Lists and Sort it [5 Marks]\n",
    "l1, l2 = [4,9,5,6], [1,2,99,3]\n",
    "print(sorted(l1 + l2))"
   ]
  },
  {
   "cell_type": "code",
   "execution_count": 26,
   "metadata": {},
   "outputs": [
    {
     "name": "stdout",
     "output_type": "stream",
     "text": [
      "15\n",
      "55\n",
      "75\n",
      "150\n"
     ]
    }
   ],
   "source": [
    "# 6.Given a list, iterate it, and display numbers divisible by five, \n",
    "# and if you find a number greater than 150, stop the loop iteration. [5 Marks]\n",
    "\n",
    "list1 = [12, 15, 32, 42, 55, 75, 122, 132, 150, 180, 200]\n",
    "for i in list1:\n",
    "    if i<=150:\n",
    "        if i%5 == 0:\n",
    "            print(i)\n",
    "    else:\n",
    "        break"
   ]
  },
  {
   "cell_type": "code",
   "execution_count": 18,
   "metadata": {},
   "outputs": [
    {
     "name": "stdout",
     "output_type": "stream",
     "text": [
      "tuple1: (11, 22)\n",
      "tuple2: (99, 88)\n",
      "------------After Swap----------\n",
      "tuple1: (99, 88)\n",
      "tuple2: (11, 22)\n"
     ]
    }
   ],
   "source": [
    "# 7.Swap the following two tuples [3 Marks]\n",
    "\n",
    "tuple1 = (11, 22)\n",
    "tuple2 = (99, 88)\n",
    "print(f'tuple1: {tuple1}')\n",
    "print(f'tuple2: {tuple2}')\n",
    "temp = tuple1\n",
    "tuple1 = tuple2\n",
    "tuple2 = temp\n",
    "print('------------After Swap----------')\n",
    "print(f'tuple1: {tuple1}')\n",
    "print(f'tuple2: {tuple2}')"
   ]
  },
  {
   "cell_type": "code",
   "execution_count": 12,
   "metadata": {},
   "outputs": [
    {
     "name": "stdout",
     "output_type": "stream",
     "text": [
      "Please enter a number: 4\n",
      "Sum of first 4 natural numbers: 10\n"
     ]
    }
   ],
   "source": [
    "# 8. a. Write a python program to find the sum of natural numbers [5 Marks]\n",
    "\n",
    "def sum_of_natural_numbers():\n",
    "    n = int(input('Please enter a number: '))\n",
    "    sum_of_n = 0\n",
    "    for i in range(n+1):\n",
    "        sum_of_n += i\n",
    "    print(f'Sum of first {n} natural numbers: {s}')\n",
    "    return sum_of_n\n",
    "        \n",
    "sum_of_n = sum_of_natural_numbers()"
   ]
  },
  {
   "cell_type": "code",
   "execution_count": 13,
   "metadata": {},
   "outputs": [
    {
     "name": "stdout",
     "output_type": "stream",
     "text": [
      "[4, 16, 25, 49, 9, 64, 1]\n"
     ]
    }
   ],
   "source": [
    "# 8. b. Given a Python list of numbers. Turn every item of a list into its square [2 Marks]\n",
    "\n",
    "List = [2,4,5,7,3,8,1]\n",
    "squares_of_List = [i**2 for i in List]\n",
    "print(squares_of_List)"
   ]
  }
 ],
 "metadata": {
  "kernelspec": {
   "display_name": "Python 3",
   "language": "python",
   "name": "python3"
  },
  "language_info": {
   "codemirror_mode": {
    "name": "ipython",
    "version": 3
   },
   "file_extension": ".py",
   "mimetype": "text/x-python",
   "name": "python",
   "nbconvert_exporter": "python",
   "pygments_lexer": "ipython3",
   "version": "3.7.4"
  }
 },
 "nbformat": 4,
 "nbformat_minor": 4
}
